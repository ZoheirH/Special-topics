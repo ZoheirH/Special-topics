{
 "cells": [
  {
   "cell_type": "code",
   "execution_count": 20,
   "id": "a0a90f0b-17e6-4cd7-b1bc-e636c3c750f1",
   "metadata": {},
   "outputs": [
    {
     "name": "stdout",
     "output_type": "stream",
     "text": [
      "8 + 6 =\n",
      "14\n",
      "8 - 6 =\n",
      "2\n",
      "8 * 6 =\n",
      "48\n",
      "8 / 6 =\n",
      "1.3333333333333333\n"
     ]
    }
   ],
   "source": [
    "num1 = 8\n",
    "num2 = 6\n",
    "print('8 + 6 =')\n",
    "print(num1 + num2)\n",
    "print('8 - 6 =')\n",
    "print(num1 - num2)\n",
    "print('8 * 6 =')\n",
    "print(num1 * num2)\n",
    "print('8 / 6 =')\n",
    "print(num1 / num2)"
   ]
  }
 ],
 "metadata": {
  "kernelspec": {
   "display_name": "Python 3 (ipykernel)",
   "language": "python",
   "name": "python3"
  },
  "language_info": {
   "codemirror_mode": {
    "name": "ipython",
    "version": 3
   },
   "file_extension": ".py",
   "mimetype": "text/x-python",
   "name": "python",
   "nbconvert_exporter": "python",
   "pygments_lexer": "ipython3",
   "version": "3.10.0"
  }
 },
 "nbformat": 4,
 "nbformat_minor": 5
}
